{
 "cells": [
  {
   "cell_type": "markdown",
   "metadata": {},
   "source": [
    "# Python Programming 101 Coding Activity\n",
    "\n",
    "Presented by Ivan Hernandez\n",
    "\n",
    "Contact: [ivan.hernandez@depaul.edu](mailto:ivan.hernandez@depaul.edu)"
   ]
  },
  {
   "cell_type": "markdown",
   "metadata": {},
   "source": [
    "## Variables\n",
    "\n",
    "Variables are a key part of any programming language. \n",
    "\n",
    "They allow us to take information in one form and give it a symbolic name that we can reference later in the code\n",
    "\n",
    "We assign information to a variable using the equals symbols:\n",
    "+ The information we want to assign is on the right-hand side\n",
    "+ The name of the variable we want to give that information is on the left-hand side\n",
    "\n",
    "We can create any name for a variables as long as it begins with a letter and only contains letters and numbers in the name\n",
    "\n",
    "For example, below, we are taking the number 2, and assigning it to the variable called `a`\n",
    "\n",
    "Whenever we reference `a`, we are really referencing the number 2"
   ]
  },
  {
   "cell_type": "code",
   "execution_count": 52,
   "metadata": {
    "collapsed": false
   },
   "outputs": [
    {
     "name": "stdout",
     "output_type": "stream",
     "text": [
      "2\n"
     ]
    }
   ],
   "source": [
    "a = 2\n",
    "print a"
   ]
  },
  {
   "cell_type": "markdown",
   "metadata": {},
   "source": [
    "We can treat the variable as if it were the number and perform operations on it"
   ]
  },
  {
   "cell_type": "code",
   "execution_count": 53,
   "metadata": {
    "collapsed": false
   },
   "outputs": [
    {
     "name": "stdout",
     "output_type": "stream",
     "text": [
      "3\n"
     ]
    }
   ],
   "source": [
    "b = 1\n",
    "c = 2\n",
    "d = b + c\n",
    "print d"
   ]
  },
  {
   "cell_type": "markdown",
   "metadata": {},
   "source": [
    "You can assign values to two variables on the same line if the variables and values are separated by commas"
   ]
  },
  {
   "cell_type": "code",
   "execution_count": 54,
   "metadata": {
    "collapsed": false
   },
   "outputs": [
    {
     "name": "stdout",
     "output_type": "stream",
     "text": [
      "4\n",
      "5\n"
     ]
    }
   ],
   "source": [
    "a,b = 4, 5\n",
    "print a\n",
    "print b"
   ]
  },
  {
   "cell_type": "markdown",
   "metadata": {},
   "source": [
    "## Variable Types\n",
    "\n",
    "In Python, all information is represented as a \"type\"\n",
    "\n",
    "The type represents the format of the information, and lets Python know what can be do with that information (e.g., Can Python add it?, How should Python sort it?\")\n",
    "\n",
    "The three most common types are\n",
    "+ Integers: Whole numbers\n",
    "+ Floats: Decimal numbers\n",
    "+ Strings: Text"
   ]
  },
  {
   "cell_type": "markdown",
   "metadata": {},
   "source": [
    "### Integer Numbers\n",
    "\n",
    "Integers are any whole number\n",
    "\n",
    "Examples of integers are:\n",
    "+ 0\n",
    "+ 1\n",
    "+ 2\n",
    "+ 3\n",
    "+ 99\n",
    "+ -10\n",
    "+ -99\n",
    "\n",
    "You can check the format of a number with the `type()` function. Integers are denoted by the type \"int\""
   ]
  },
  {
   "cell_type": "code",
   "execution_count": 55,
   "metadata": {
    "collapsed": false,
    "scrolled": true
   },
   "outputs": [
    {
     "name": "stdout",
     "output_type": "stream",
     "text": [
      "<type 'int'>\n",
      "<type 'int'>\n",
      "<type 'int'>\n"
     ]
    }
   ],
   "source": [
    "a = 1\n",
    "b = 3\n",
    "c = -1\n",
    "\n",
    "print type(a)\n",
    "print type(b)\n",
    "print type(c)"
   ]
  },
  {
   "cell_type": "markdown",
   "metadata": {},
   "source": [
    "### Things you can do with Integers\n",
    "\n",
    "If a variable is an integer, you can perform basic arithmetic on it.\n",
    "\n",
    "Because integers cannot be decimals, if the quotient of two numbers would be a decimal, the result is rounded down to the nearest integer"
   ]
  },
  {
   "cell_type": "code",
   "execution_count": 56,
   "metadata": {
    "collapsed": false
   },
   "outputs": [
    {
     "name": "stdout",
     "output_type": "stream",
     "text": [
      "4\n",
      "2\n",
      "8\n",
      "16\n",
      "2\n"
     ]
    }
   ],
   "source": [
    "print 2 + 2\n",
    "print 3 - 1\n",
    "print 4 * 2\n",
    "print 4**2\n",
    "print 5 / 2"
   ]
  },
  {
   "cell_type": "markdown",
   "metadata": {},
   "source": [
    "### Floating Point Numbers (Floats)\n",
    "\n",
    "Floats (floating point numbers) are decimals such as 0.0, 0.5, 1.0, 2.3333"
   ]
  },
  {
   "cell_type": "code",
   "execution_count": 58,
   "metadata": {
    "collapsed": false,
    "scrolled": true
   },
   "outputs": [
    {
     "name": "stdout",
     "output_type": "stream",
     "text": [
      "<type 'float'>\n",
      "<type 'float'>\n",
      "<type 'float'>\n"
     ]
    }
   ],
   "source": [
    "a = 1.0\n",
    "b = .5\n",
    "c = -1.7\n",
    "\n",
    "print type(a)\n",
    "print type(b)\n",
    "print type(c)"
   ]
  },
  {
   "cell_type": "markdown",
   "metadata": {},
   "source": [
    "### Things you can do with Floats\n",
    "\n",
    "Floating point numbers allow you to do arithmetic on them, but the results can now take decimal values"
   ]
  },
  {
   "cell_type": "code",
   "execution_count": 57,
   "metadata": {
    "collapsed": false
   },
   "outputs": [
    {
     "name": "stdout",
     "output_type": "stream",
     "text": [
      "4.6\n",
      "2.5\n",
      "10.0\n",
      "16.0\n",
      "2.08333333333\n"
     ]
    }
   ],
   "source": [
    "print 2.5 + 2.1\n",
    "print 3.5 - 1.0\n",
    "print 4.0 * 2.5\n",
    "print 4.0**2\n",
    "print 12.5 / 6"
   ]
  },
  {
   "cell_type": "markdown",
   "metadata": {},
   "source": [
    "### Converting integers into floats and vice versa\n",
    "\n",
    "If you havea number that is an integer and you need to make it into a float, then use the float() function\n",
    "\n",
    "If you have a number that is a float and you need to make it into an integer, then use the int() function"
   ]
  },
  {
   "cell_type": "code",
   "execution_count": 59,
   "metadata": {
    "collapsed": false
   },
   "outputs": [
    {
     "name": "stdout",
     "output_type": "stream",
     "text": [
      "2.0\n",
      "2\n"
     ]
    }
   ],
   "source": [
    "print float(2)\n",
    "print int(2.0)"
   ]
  },
  {
   "cell_type": "markdown",
   "metadata": {},
   "source": [
    "### Strings\n",
    "\n",
    "Strings are simply text that correspond to characters. Number can be strings if you want them interepreted as representing text and not a numeric value \n",
    "\n",
    "As long as the information is contained within either single-quotes or double quotes, then the information will be stored as a string"
   ]
  },
  {
   "cell_type": "code",
   "execution_count": 60,
   "metadata": {
    "collapsed": false,
    "scrolled": true
   },
   "outputs": [
    {
     "name": "stdout",
     "output_type": "stream",
     "text": [
      "<type 'str'>\n",
      "<type 'str'>\n",
      "<type 'str'>\n"
     ]
    }
   ],
   "source": [
    "a = \"Hello\"\n",
    "b = \"2.6666\"\n",
    "c = '-1.7'\n",
    "\n",
    "print type(a)\n",
    "print type(b)\n",
    "print type(c)"
   ]
  },
  {
   "cell_type": "markdown",
   "metadata": {},
   "source": [
    "### Things you can do with Strings"
   ]
  },
  {
   "cell_type": "code",
   "execution_count": 61,
   "metadata": {
    "collapsed": false,
    "scrolled": true
   },
   "outputs": [
    {
     "name": "stdout",
     "output_type": "stream",
     "text": [
      "hellogoodbye\n",
      "HELLO\n",
      "hello\n",
      "Cello\n",
      "True\n",
      "False\n",
      "['Hello', 'Goodbye']\n",
      "Hello_Goodbye\n"
     ]
    }
   ],
   "source": [
    "print \"hello\" + \"goodbye\" #Combine two strings into one string\n",
    "\n",
    "print \"Hello\".upper() #Uppercase all of the letter\n",
    "print \"Hello\".lower() #Lowercase all of the letters\n",
    "\n",
    "print \"Hello\".replace(\"H\", \"C\") #Replace letters with other letters\n",
    " \n",
    "print \"Hello\".isalpha() #Check if all characters are alphabetical\n",
    "print \"Hello\".isdigit() #Check if all characters are digits\n",
    "\n",
    "print \"Hello Goodbye\".split(\" \") #Split the word into two words when a space is found\n",
    "print \"_\".join([\"Hello\", \"Goodbye\"]) #Join two words by an underscore"
   ]
  },
  {
   "cell_type": "markdown",
   "metadata": {},
   "source": [
    "### Converting numbers into strings\n",
    "\n",
    "You can convert numbers into strings using the str function"
   ]
  },
  {
   "cell_type": "code",
   "execution_count": 62,
   "metadata": {
    "collapsed": false
   },
   "outputs": [
    {
     "name": "stdout",
     "output_type": "stream",
     "text": [
      "<type 'str'>\n",
      "<type 'str'>\n"
     ]
    }
   ],
   "source": [
    "a = str(2)\n",
    "b = str(2.0)\n",
    "\n",
    "print type(a)\n",
    "print type(b)"
   ]
  },
  {
   "cell_type": "markdown",
   "metadata": {},
   "source": [
    "# Now you try\n",
    "\n",
    "Make variable called var and set it equal to the word \"five\"\n",
    "\n",
    "Make another variable called var2 and set it equal to 5\n",
    "\n",
    "Make a third variable called var3 and set it equal to 5.0\n",
    "\n",
    "What type of variable is each one? Verify your answer with the *type* function"
   ]
  },
  {
   "cell_type": "code",
   "execution_count": null,
   "metadata": {
    "collapsed": true
   },
   "outputs": [],
   "source": [
    "\n",
    "\n",
    "\n",
    "\n",
    "\n",
    "\n",
    "\n",
    "\n"
   ]
  },
  {
   "cell_type": "markdown",
   "metadata": {},
   "source": [
    "---\n",
    "\n",
    "## Storing a collection of Information\n",
    "\n",
    "Multiple pieces of information, such as integers, floats, and strings can be stored together in a single variable.\n",
    "\n",
    "There are three commonly used data structures that contain a collection of information:\n",
    "+ Lists: An expandable sequence of information\n",
    "+ Tuples: A fixed sequence of information\n",
    "+ Dictionaries: A collection of values that can be looked up by an associated term"
   ]
  },
  {
   "cell_type": "markdown",
   "metadata": {},
   "source": [
    "### Lists"
   ]
  },
  {
   "cell_type": "markdown",
   "metadata": {},
   "source": [
    "#### Creating a List\n",
    "\n",
    "We create lists using square brackets: [ ]\n",
    "\n",
    "The items inside the brackets are what we want to store in the order we want to store them.\n",
    "\n",
    "A list can hold items of any type - including other lists\n",
    "\n",
    "Each item in the list must be separated by a comma"
   ]
  },
  {
   "cell_type": "code",
   "execution_count": 63,
   "metadata": {
    "collapsed": false,
    "scrolled": true
   },
   "outputs": [
    {
     "name": "stdout",
     "output_type": "stream",
     "text": [
      "[1, '4', 3.2]\n"
     ]
    }
   ],
   "source": [
    "lst = [1, \"4\" , 3.2]\n",
    "print lst"
   ]
  },
  {
   "cell_type": "markdown",
   "metadata": {},
   "source": [
    "#### Examining the number of items in a list\n",
    "\n",
    "Because a list contains a collection of items, you may want to know how many items are in that list.\n",
    "\n",
    "You can apply the *len* function to know the length of the list\n",
    "\n",
    "You can also use the *len* function to know how many characters are in a string"
   ]
  },
  {
   "cell_type": "code",
   "execution_count": 64,
   "metadata": {
    "collapsed": false
   },
   "outputs": [
    {
     "name": "stdout",
     "output_type": "stream",
     "text": [
      "1\n",
      "3\n",
      "4\n"
     ]
    }
   ],
   "source": [
    "lst1 = []\n",
    "lst2 = [1]\n",
    "lst3 = [1,5,7]\n",
    "lst4 = [1,5,7,9]\n",
    "\n",
    "\n",
    "print len(lst2)\n",
    "print len(lst3)\n",
    "print len(lst4)"
   ]
  },
  {
   "cell_type": "markdown",
   "metadata": {},
   "source": [
    "#### Accessing a specific item in a list\n",
    "\n",
    "Because each list is ordered, we can access specific items in the list by indicating that item's position.\n",
    "\n",
    "The first item has position 0\n",
    "\n",
    "The second item has position 1\n",
    "\n",
    "The last item has position len(list)\n",
    "\n",
    "You can also use a negative sign to indicate that you want to access the list backwards.\n",
    "\n",
    "If you use position -1, you access the last item in the list\n",
    "\n",
    "If you use position -2, you access the second to last item in the list"
   ]
  },
  {
   "cell_type": "code",
   "execution_count": 65,
   "metadata": {
    "collapsed": false
   },
   "outputs": [
    {
     "name": "stdout",
     "output_type": "stream",
     "text": [
      "1\n",
      "4\n",
      "3.2\n",
      "[1, '4']\n"
     ]
    }
   ],
   "source": [
    "print lst[0] #First item\n",
    "print lst[1] #Second Items\n",
    "print lst[-1] #Last item\n",
    "print lst[0:2] #First through second item"
   ]
  },
  {
   "cell_type": "markdown",
   "metadata": {},
   "source": [
    "#### Changing, Removing, and Adding a specific item\n",
    "\n",
    "You can replace an item in a specific position by indicating the list, then index, and setting it equal to whatever information you want.\n",
    "\n",
    "You can remove a specific value from a list using the \"remove\" function\n",
    "\n",
    "You can add a value to the end of a list using the \"append\" function"
   ]
  },
  {
   "cell_type": "code",
   "execution_count": 66,
   "metadata": {
    "collapsed": false
   },
   "outputs": [
    {
     "name": "stdout",
     "output_type": "stream",
     "text": [
      "[500, 3.2, 'Hello']\n"
     ]
    }
   ],
   "source": [
    "lst[0] = 500 #Change\n",
    "lst.remove(\"4\") #Remove\n",
    "lst.append(\"Hello\") #Add to the end\n",
    "print lst"
   ]
  },
  {
   "cell_type": "markdown",
   "metadata": {},
   "source": [
    "#### Reverse a list"
   ]
  },
  {
   "cell_type": "code",
   "execution_count": 67,
   "metadata": {
    "collapsed": false
   },
   "outputs": [
    {
     "name": "stdout",
     "output_type": "stream",
     "text": [
      "['bird', 'cat', 'dog']\n"
     ]
    }
   ],
   "source": [
    "lst = [\"dog\",\"cat\",\"bird\"]\n",
    "reversedlst = lst[::-1]\n",
    "print reversedlst"
   ]
  },
  {
   "cell_type": "markdown",
   "metadata": {},
   "source": [
    "#### Sort the list\n",
    "\n",
    "If you want to change the order of a list, you can call the \"sorted \"function\n",
    "\n",
    "The default is to sort from lowest to highest, but you can also have it sort from highest to lowest with \"reverse=True\""
   ]
  },
  {
   "cell_type": "code",
   "execution_count": 68,
   "metadata": {
    "collapsed": false,
    "scrolled": true
   },
   "outputs": [
    {
     "name": "stdout",
     "output_type": "stream",
     "text": [
      "['bird', 'cat', 'dog']\n",
      "['dog', 'cat', 'bird']\n"
     ]
    }
   ],
   "source": [
    "print sorted(lst)\n",
    "print sorted(lst,reverse=True)"
   ]
  },
  {
   "cell_type": "markdown",
   "metadata": {},
   "source": [
    "#### Make a list contain only unique items"
   ]
  },
  {
   "cell_type": "code",
   "execution_count": 69,
   "metadata": {
    "collapsed": false
   },
   "outputs": [
    {
     "name": "stdout",
     "output_type": "stream",
     "text": [
      "[1, 2]\n"
     ]
    }
   ],
   "source": [
    "items = [1,1,1,1,2,2,2,1,1,2,2,2,1,1]\n",
    "uniqueitems = list(set(items))\n",
    "print uniqueitems"
   ]
  },
  {
   "cell_type": "markdown",
   "metadata": {},
   "source": [
    "### Tuples\n",
    "\n",
    "Tuples are exactly like lists except that their size is set. If a tuples has 3 items, you cannot append or remove items to that tuple.\n",
    "\n",
    "Because the size of a tuple won't change, they are a slightly more memory efficient way to hold items, when there are thousands of items to store."
   ]
  },
  {
   "cell_type": "code",
   "execution_count": 70,
   "metadata": {
    "collapsed": false
   },
   "outputs": [
    {
     "name": "stdout",
     "output_type": "stream",
     "text": [
      "(1, 'hello', 3.5)\n",
      "1\n"
     ]
    }
   ],
   "source": [
    "tup = (1, \"hello\", 3.5)\n",
    "print tup\n",
    "print tup[0]"
   ]
  },
  {
   "cell_type": "markdown",
   "metadata": {},
   "source": [
    "### Dictionaries\n",
    "\n",
    "Dictionaries are like lists in that they hold a collection of information.\n",
    "\n",
    "They are different because each piece of information (i.e., a value) is assocatied with a \"key\"\n",
    "\n",
    "Dictionaries are basically a \"look-up table.\" The format of a dictionary is similar to this:\n",
    "\n",
    "| Key        | Value       |\n",
    "|------------|-------------|\n",
    "| Illinois   | Springfield |\n",
    "| California | Sacramento  |\n",
    "| New York   | Albany      |\n",
    "| Washington | Olympia     |\n",
    "\n",
    "\n",
    "Therefore, you can look-up a specific piece of information if you know its key. If we know the name of a state, we can lookup its capital.\n",
    "\n",
    "Unlike a list, a dictionary is unordered."
   ]
  },
  {
   "cell_type": "markdown",
   "metadata": {},
   "source": [
    "#### Creating a Dictionary"
   ]
  },
  {
   "cell_type": "markdown",
   "metadata": {},
   "source": [
    "You can create an empty dictionary and add keys and values to it"
   ]
  },
  {
   "cell_type": "code",
   "execution_count": 71,
   "metadata": {
    "collapsed": false
   },
   "outputs": [
    {
     "name": "stdout",
     "output_type": "stream",
     "text": [
      "{'Illinois': 'Springfield'}\n"
     ]
    }
   ],
   "source": [
    "dictionary = {}\n",
    "dictionary[\"Illinois\"] = \"Springfield\"\n",
    "print dictionary"
   ]
  },
  {
   "cell_type": "markdown",
   "metadata": {},
   "source": [
    "If you know the values ahead of time, you can create the dictionary all at once"
   ]
  },
  {
   "cell_type": "code",
   "execution_count": 72,
   "metadata": {
    "collapsed": false,
    "scrolled": true
   },
   "outputs": [
    {
     "name": "stdout",
     "output_type": "stream",
     "text": [
      "{'Washington': 'Olympia', 'New York': 'Albany', 'California': 'Sacramento', 'Illinois': 'Springfield'}\n"
     ]
    }
   ],
   "source": [
    "dictionary = {\"Illinois\":\"Springfield\", \"California\":\"Sacramento\", \"New York\":\"Albany\", \"Washington\":\"Olympia\"}\n",
    "print dictionary"
   ]
  },
  {
   "cell_type": "markdown",
   "metadata": {},
   "source": [
    "#### Accessing a specific value with a key"
   ]
  },
  {
   "cell_type": "code",
   "execution_count": 73,
   "metadata": {
    "collapsed": false
   },
   "outputs": [
    {
     "data": {
      "text/plain": [
       "'Springfield'"
      ]
     },
     "execution_count": 73,
     "metadata": {},
     "output_type": "execute_result"
    }
   ],
   "source": [
    "dictionary[\"Illinois\"]"
   ]
  },
  {
   "cell_type": "markdown",
   "metadata": {},
   "source": [
    "#### Changing, Deleting, and Adding a value"
   ]
  },
  {
   "cell_type": "code",
   "execution_count": 74,
   "metadata": {
    "collapsed": false
   },
   "outputs": [
    {
     "name": "stdout",
     "output_type": "stream",
     "text": [
      "{'Washington': 'Seattle', 'Florida': 'Tallahassee', 'California': 'Sacramento', 'Illinois': 'Springfield'}\n"
     ]
    }
   ],
   "source": [
    "#Change a value for a specific key\n",
    "dictionary[\"Washington\"] = \"Seattle\"\n",
    "\n",
    "#Remove a key and value\n",
    "del dictionary[\"New York\"]\n",
    "\n",
    "#Add a new key and value\n",
    "dictionary[\"Florida\"] = \"Tallahassee\"\n",
    "\n",
    "print dictionary"
   ]
  },
  {
   "cell_type": "markdown",
   "metadata": {},
   "source": [
    "#### View all of the keys in a dictionary"
   ]
  },
  {
   "cell_type": "code",
   "execution_count": 75,
   "metadata": {
    "collapsed": false
   },
   "outputs": [
    {
     "data": {
      "text/plain": [
       "['Washington', 'Florida', 'California', 'Illinois']"
      ]
     },
     "execution_count": 75,
     "metadata": {},
     "output_type": "execute_result"
    }
   ],
   "source": [
    "dictionary.keys()"
   ]
  },
  {
   "cell_type": "markdown",
   "metadata": {},
   "source": [
    "#### View all of the values in a dictionary"
   ]
  },
  {
   "cell_type": "code",
   "execution_count": 76,
   "metadata": {
    "collapsed": false,
    "scrolled": true
   },
   "outputs": [
    {
     "data": {
      "text/plain": [
       "['Seattle', 'Tallahassee', 'Sacramento', 'Springfield']"
      ]
     },
     "execution_count": 76,
     "metadata": {},
     "output_type": "execute_result"
    }
   ],
   "source": [
    "dictionary.values()"
   ]
  },
  {
   "cell_type": "markdown",
   "metadata": {},
   "source": [
    "#### Convert dictionary into a list of tuples"
   ]
  },
  {
   "cell_type": "code",
   "execution_count": 77,
   "metadata": {
    "collapsed": false
   },
   "outputs": [
    {
     "data": {
      "text/plain": [
       "[('Person 3', 'Carl'), ('Person 2', 'Sam'), ('Person 1', 'John')]"
      ]
     },
     "execution_count": 77,
     "metadata": {},
     "output_type": "execute_result"
    }
   ],
   "source": [
    "dictionary = {\"Person 1\":\"John\", \"Person 2\" : \"Sam\", \"Person 3\" : \"Carl\"}\n",
    "dictionary.items()"
   ]
  },
  {
   "cell_type": "markdown",
   "metadata": {},
   "source": [
    "#### Turn two lists into a dictionary"
   ]
  },
  {
   "cell_type": "code",
   "execution_count": 78,
   "metadata": {
    "collapsed": false,
    "scrolled": false
   },
   "outputs": [
    {
     "data": {
      "text/plain": [
       "{'cat': 20, 'dog': 50, 'fish': 0.5}"
      ]
     },
     "execution_count": 78,
     "metadata": {},
     "output_type": "execute_result"
    }
   ],
   "source": [
    "animals = [\"dog\",\"cat\",\"fish\"]\n",
    "weights = [50,20,.5]\n",
    "animaldict = dict(zip(animals,weights))\n",
    "animaldict"
   ]
  },
  {
   "cell_type": "markdown",
   "metadata": {},
   "source": [
    "# Now you try\n",
    "\n",
    "Make dictionary called \"namedict\" and have its first key be the name of a close friend of yours and that person's phone number\n",
    "\n",
    "Add another person to the dictionary, and have it hold that person's phone number too"
   ]
  },
  {
   "cell_type": "code",
   "execution_count": null,
   "metadata": {
    "collapsed": true
   },
   "outputs": [],
   "source": [
    "\n",
    "\n",
    "\n",
    "\n",
    "\n"
   ]
  },
  {
   "cell_type": "markdown",
   "metadata": {},
   "source": [
    "---\n",
    "\n",
    "## Functions\n",
    "\n",
    "A function is a collection of commands that you expect to use regularly, so you combine them under a single name.\n",
    "\n",
    "These are the steps to making a function in Python:\n",
    "+ Start the line with the word \"def\", which indicates you are defining a function\n",
    "+ Specify the the name you want to give the function\n",
    "+ Specify variable names it will take as an input to operate on\n",
    "+ Use a colon and start a new line\n",
    "+ Indent all of the lines belonging to that function\n",
    "+ At the end of the function, write result and what informat you want returned"
   ]
  },
  {
   "cell_type": "markdown",
   "metadata": {},
   "source": [
    "### Make a simple function\n",
    "\n",
    "Below shows a simple function named `add` that take two parameters: x and y\n",
    "\n",
    "It then makes a new variable valled result that adds x and y together\n",
    "\n",
    "The function then returns the value of result back to the user"
   ]
  },
  {
   "cell_type": "code",
   "execution_count": 79,
   "metadata": {
    "collapsed": true
   },
   "outputs": [],
   "source": [
    "def add(x,y):\n",
    "    result = x + y\n",
    "    return result"
   ]
  },
  {
   "cell_type": "markdown",
   "metadata": {},
   "source": [
    "We can now execute the function by calling it and providing our own variables as the parameters"
   ]
  },
  {
   "cell_type": "code",
   "execution_count": 80,
   "metadata": {
    "collapsed": false,
    "scrolled": false
   },
   "outputs": [
    {
     "data": {
      "text/plain": [
       "8"
      ]
     },
     "execution_count": 80,
     "metadata": {},
     "output_type": "execute_result"
    }
   ],
   "source": [
    "add(3,5)"
   ]
  },
  {
   "cell_type": "markdown",
   "metadata": {},
   "source": [
    "# Now you try\n",
    "\n",
    "Make a function that squares a number\n",
    "\n",
    "The function should take a single input (a number)\n",
    "\n",
    "The function should return the square of that input"
   ]
  },
  {
   "cell_type": "code",
   "execution_count": null,
   "metadata": {
    "collapsed": true
   },
   "outputs": [],
   "source": [
    "\n",
    "\n",
    "\n",
    "\n",
    "\n",
    "\n"
   ]
  },
  {
   "cell_type": "markdown",
   "metadata": {},
   "source": [
    "---\n",
    "\n",
    "## Importing Libraries\n",
    "\n",
    "In addition to the functions that come with Python by default, you can also use functions from libraries other people have created. These libraries allow you to perform a wide variety of tasks with Python, and also simplify how much code you need to write.\n",
    "\n",
    "Each library has a specific name, which you call to import it\n",
    "\n",
    "\n",
    "### Import a specific library\n",
    "\n",
    "You import a specific library by writing:\n",
    "\n",
    "import *libraryname*\n",
    "\n",
    "You can then access the functions of a library by writing:\n",
    "\n",
    "*libraryname*.*functionname*()\n",
    "\n",
    "Let's import the math library and call the *square root* function from it"
   ]
  },
  {
   "cell_type": "code",
   "execution_count": 81,
   "metadata": {
    "collapsed": false
   },
   "outputs": [
    {
     "data": {
      "text/plain": [
       "3.0"
      ]
     },
     "execution_count": 81,
     "metadata": {},
     "output_type": "execute_result"
    }
   ],
   "source": [
    "import math\n",
    "\n",
    "math.sqrt(9)"
   ]
  },
  {
   "cell_type": "markdown",
   "metadata": {},
   "source": [
    "In addition to functions, some libraries also have values in them.\n",
    "\n",
    "The string library has all of the lowercase and uppercase letters in it\n",
    "\n",
    "When using a value and not a function, you do not need to use the parentheses ()"
   ]
  },
  {
   "cell_type": "code",
   "execution_count": 82,
   "metadata": {
    "collapsed": false
   },
   "outputs": [
    {
     "data": {
      "text/plain": [
       "'abcdefghijklmnopqrstuvwxyzABCDEFGHIJKLMNOPQRSTUVWXYZ'"
      ]
     },
     "execution_count": 82,
     "metadata": {},
     "output_type": "execute_result"
    }
   ],
   "source": [
    "import string\n",
    "\n",
    "string.ascii_letters"
   ]
  },
  {
   "cell_type": "markdown",
   "metadata": {},
   "source": [
    "### Import a specific function from a specific library\n",
    "\n",
    "If you do not want to import the entire library, but just a specific function, you can use the *from* command\n",
    "\n",
    "That way, you do not have write the entire library name when calling the function. You can call the function directly"
   ]
  },
  {
   "cell_type": "code",
   "execution_count": 83,
   "metadata": {
    "collapsed": false
   },
   "outputs": [
    {
     "data": {
      "text/plain": [
       "3.0"
      ]
     },
     "execution_count": 83,
     "metadata": {},
     "output_type": "execute_result"
    }
   ],
   "source": [
    "from math import sqrt\n",
    "\n",
    "sqrt(9)"
   ]
  },
  {
   "cell_type": "markdown",
   "metadata": {},
   "source": [
    "### Commonly Used Libraries\n",
    "\n",
    "#### Commonly Used Libraries Included in all Python Installations\n",
    "+ os (Manage files and directories on the operatoring system)\n",
    "+ math (Perform mathemtical functions)\n",
    "+ string (Manipulate strings)\n",
    "+ re (Find and Replace text in strings)\n",
    "+ time (Record the time and Delay command execution)\n",
    "+ datetime (Convert dates into different formats)\n",
    "+ cpickle (Save Python objects to the hard drive for later use)\n",
    "+ glob (Find files in a directory)\n",
    "+ [Full list of Standard Python Libraries Here](https://docs.python.org/2/library)\n",
    "\n",
    "\n",
    "#### Commonly Used Libraries Included in Anaconda\n",
    "+ PIL (Manipulate, Convert and Save Images)\n",
    "+ numpy (Perform avdanced mathematics)\n",
    "+ pandas (Store and Analyze data in a table-like format)\n",
    "+ matplotlib (Create visualizations from Data)\n",
    "+ sqlite (Manage relational databases)\n",
    "+ [Full list of Anaconda Libraries Here](https://docs.continuum.io/anaconda/pkg-docs)\n",
    "\n",
    "\n"
   ]
  },
  {
   "cell_type": "markdown",
   "metadata": {},
   "source": [
    "---\n",
    "\n",
    "## Program Control\n",
    "\n",
    "Now that you have a fundamental understanding of variables and functions, you are able to place them sequentially in the code.\n",
    "\n",
    "If you want to use functions or create variables repreatedly, you can use Loops to have those commands be automated\n",
    "\n",
    "If you want to use functions or create variables only if certain conditions are met with regard to those variables, then you can use Conditional statements\n",
    "\n",
    "Types of Control Statements:\n",
    "+ Loops\n",
    " + For Loops\n",
    " + While Loops\n",
    " \n",
    "+ Conditions\n",
    " + If\n",
    " + Else\n",
    " + Elif"
   ]
  },
  {
   "cell_type": "markdown",
   "metadata": {},
   "source": [
    "## Loops\n",
    "\n",
    "Loops perform a sequence of commands repeatedly for either a set number of times or until a condition is met."
   ]
  },
  {
   "cell_type": "markdown",
   "metadata": {},
   "source": [
    "### For Loops\n",
    "\n",
    "A For Loop will perform a command a given number of times.\n",
    "\n",
    "There are many types of For Loops, but the two most common are:\n",
    "+ For every item that occurs in a list\n",
    "+ For every number in a sequence of numbers"
   ]
  },
  {
   "cell_type": "markdown",
   "metadata": {},
   "source": [
    "### For item in *Listname*\n",
    "\n",
    "If you have a list of items and want to perform an action on each of the individual items, then you can use the `for item in listname` loop.\n",
    "\n",
    "You have to begin with a list which has a name.\n",
    "\n",
    "Then say: `for item in listname:`\n",
    "\n",
    "Then indent the line, and write the commands you want followed\n",
    "\n",
    "The loop will cycle through the items following the commands as many times are there are items.\n",
    "\n",
    "Whenever you say the variable `item` in that loop, Python thinks you are referring to the current item in the loop.\n",
    "\n",
    "You don't have to write `item` You can name the list items anything you want.\n",
    "\n",
    "Below we create a list of names called `lst`\n",
    "\n",
    "Then we say, for each item in that list, print the item's value"
   ]
  },
  {
   "cell_type": "code",
   "execution_count": 84,
   "metadata": {
    "collapsed": false,
    "scrolled": true
   },
   "outputs": [
    {
     "name": "stdout",
     "output_type": "stream",
     "text": [
      "Amy\n",
      "Ben\n",
      "Carol\n",
      "David\n"
     ]
    }
   ],
   "source": [
    "lst = [\"Amy\", \"Ben\", \"Carol\", \"David\"]\n",
    "\n",
    "for item in lst: \n",
    "    print item"
   ]
  },
  {
   "cell_type": "markdown",
   "metadata": {},
   "source": [
    "### Looping through a set of sequential numbers\n",
    "\n",
    "If you just want a sequence of commands followed a certain number of times, you can make a list of numbers using the range function.\n",
    "\n",
    "If you want to have a loop that goes for 10 iterations, then just create a list using `range(0,10)` and loop though it"
   ]
  },
  {
   "cell_type": "code",
   "execution_count": 85,
   "metadata": {
    "collapsed": false
   },
   "outputs": [
    {
     "data": {
      "text/plain": [
       "[0, 1, 2, 3, 4, 5, 6, 7, 8, 9]"
      ]
     },
     "execution_count": 85,
     "metadata": {},
     "output_type": "execute_result"
    }
   ],
   "source": [
    "range(0,10)"
   ]
  },
  {
   "cell_type": "code",
   "execution_count": 86,
   "metadata": {
    "collapsed": false,
    "scrolled": false
   },
   "outputs": [
    {
     "name": "stdout",
     "output_type": "stream",
     "text": [
      "0\n",
      "1\n",
      "2\n",
      "3\n",
      "4\n",
      "5\n",
      "6\n",
      "7\n",
      "8\n",
      "9\n"
     ]
    }
   ],
   "source": [
    "lst = range(0,10)\n",
    "\n",
    "for item in lst:\n",
    "    print item"
   ]
  },
  {
   "cell_type": "markdown",
   "metadata": {},
   "source": [
    "### Looping through items in a list using sequential numbers\n",
    "\n",
    "You can also use a list of numbers to index a list or many lists within a for loop.\n",
    "\n",
    "Below we have two lists: one for people's first names, and one for people's last names.\n",
    "\n",
    "We create a list of 4 numbers from 0 to 3, and go through each number referencing the name in the current position from both lists"
   ]
  },
  {
   "cell_type": "code",
   "execution_count": 87,
   "metadata": {
    "collapsed": false
   },
   "outputs": [
    {
     "name": "stdout",
     "output_type": "stream",
     "text": [
      "Alice Anderson\n",
      "Bob Burwell\n",
      "Charles Clybourn\n",
      "Diana Diaz\n"
     ]
    }
   ],
   "source": [
    "lst = range(0,4)\n",
    "firstnames = [\"Alice\", \"Bob\", \"Charles\", \"Diana\"]\n",
    "lastnames = [\"Anderson\", \"Burwell\", \"Clybourn\", \"Diaz\"]\n",
    "for item in lst:\n",
    "    print firstnames[item] + \" \" + lastnames[item]"
   ]
  },
  {
   "cell_type": "markdown",
   "metadata": {},
   "source": [
    "### While Loops\n",
    "\n",
    "While loops continuously follow a sequence command until a certain condition is no longer true.\n",
    "\n",
    "Below we set a variable x to be equal to 0.\n",
    "\n",
    "We create a while loop, where the condition we place is that x must be below 10.\n",
    "\n",
    "During the while loop print the value of x and then add 1 to x\n",
    "\n",
    "Eventually x will be equal to 10, and the loop will stop"
   ]
  },
  {
   "cell_type": "code",
   "execution_count": 88,
   "metadata": {
    "collapsed": false,
    "scrolled": true
   },
   "outputs": [
    {
     "name": "stdout",
     "output_type": "stream",
     "text": [
      "0\n",
      "1\n",
      "2\n",
      "3\n",
      "4\n",
      "5\n",
      "6\n",
      "7\n",
      "8\n",
      "9\n"
     ]
    }
   ],
   "source": [
    "x = 0\n",
    "while (x < 10):\n",
    "    print(x)\n",
    "    x = x + 1"
   ]
  },
  {
   "cell_type": "markdown",
   "metadata": {},
   "source": [
    "## Conditional Statements\n",
    "\n",
    "Conditional statements allow our code to run only if a certain condition is met.\n",
    "\n",
    "The most fundamental form of a conditional statement is the `if` statement."
   ]
  },
  {
   "cell_type": "markdown",
   "metadata": {},
   "source": [
    "### If Statements\n",
    "\n",
    "In the `if` statement, we specify the condition that must be met within parentheses. We then use a color to indicate the end of our conditions.\n",
    "\n",
    "The next line is indented and we indicate what code Python should execute if the condition was met."
   ]
  },
  {
   "cell_type": "markdown",
   "metadata": {},
   "source": [
    "#### If *Variable* is Less Than *Number*"
   ]
  },
  {
   "cell_type": "code",
   "execution_count": 89,
   "metadata": {
    "collapsed": false
   },
   "outputs": [
    {
     "name": "stdout",
     "output_type": "stream",
     "text": [
      "a is less than 3\n"
     ]
    }
   ],
   "source": [
    "a = 2\n",
    "b = 3\n",
    "\n",
    "if (a < 3):\n",
    "    print \"a is less than 3\"\n",
    "    \n",
    "if (b < 3):\n",
    "    print \"b is less than 3\""
   ]
  },
  {
   "cell_type": "markdown",
   "metadata": {},
   "source": [
    "#### If *Variable* is Less than or Equal to *Number*"
   ]
  },
  {
   "cell_type": "code",
   "execution_count": 90,
   "metadata": {
    "collapsed": false
   },
   "outputs": [
    {
     "name": "stdout",
     "output_type": "stream",
     "text": [
      "a is less than or equal to 3\n",
      "b is less than or equal to 3\n"
     ]
    }
   ],
   "source": [
    "a = 2\n",
    "b = 3\n",
    "\n",
    "if (a <= 3):\n",
    "    print \"a is less than or equal to 3\"\n",
    "    \n",
    "if (b <= 3):\n",
    "    print \"b is less than or equal to 3\""
   ]
  },
  {
   "cell_type": "markdown",
   "metadata": {},
   "source": [
    "#### If *Variable* is Equal to *Number/String/List*"
   ]
  },
  {
   "cell_type": "code",
   "execution_count": 91,
   "metadata": {
    "collapsed": false
   },
   "outputs": [
    {
     "name": "stdout",
     "output_type": "stream",
     "text": [
      "a is equal to 3\n",
      "b is equal to 'hello'\n",
      "c is equal to '[1, 2, 3]'\n"
     ]
    }
   ],
   "source": [
    "a = 3\n",
    "b = \"hello\"\n",
    "c = [1,2,3]\n",
    "\n",
    "if (a == 3):\n",
    "    print \"a is equal to 3\"\n",
    "    \n",
    "if (b == \"hello\"):\n",
    "    print \"b is equal to 'hello'\"\n",
    "    \n",
    "if (c == [1,2,3]):\n",
    "    print \"c is equal to '[1, 2, 3]'\""
   ]
  },
  {
   "cell_type": "markdown",
   "metadata": {},
   "source": [
    "#### If In *List/String*"
   ]
  },
  {
   "cell_type": "code",
   "execution_count": 92,
   "metadata": {
    "collapsed": false
   },
   "outputs": [
    {
     "name": "stdout",
     "output_type": "stream",
     "text": [
      "a is in [1,2,3]\n",
      "b is in 'Hello'\n"
     ]
    }
   ],
   "source": [
    "a = 2\n",
    "b = \"He\"\n",
    "\n",
    "if (a in [1,2,3]):\n",
    "    print \"a is in [1,2,3]\"\n",
    "    \n",
    "if (b in \"Hello\"):\n",
    "    print \"b is in 'Hello'\""
   ]
  },
  {
   "cell_type": "markdown",
   "metadata": {},
   "source": [
    "#### If *Variable* is Not In *List/String*"
   ]
  },
  {
   "cell_type": "code",
   "execution_count": 93,
   "metadata": {
    "collapsed": false
   },
   "outputs": [
    {
     "name": "stdout",
     "output_type": "stream",
     "text": [
      "a is not in [4, 5, 6]\n",
      "b is not in 'Hello'\n"
     ]
    }
   ],
   "source": [
    "a = 2\n",
    "b = \"Be\"\n",
    "\n",
    "if (a not in [4,5,6]):\n",
    "    print \"a is not in [4, 5, 6]\"\n",
    "    \n",
    "if (b not in \"Hello\"):\n",
    "    print \"b is not in 'Hello'\""
   ]
  },
  {
   "cell_type": "markdown",
   "metadata": {},
   "source": [
    "#### If where multiple conditions must all be met: And"
   ]
  },
  {
   "cell_type": "code",
   "execution_count": 94,
   "metadata": {
    "collapsed": false,
    "scrolled": true
   },
   "outputs": [
    {
     "name": "stdout",
     "output_type": "stream",
     "text": [
      "a is less than 5 and b is less than 4\n",
      "both a and b are less than 5\n"
     ]
    }
   ],
   "source": [
    "a = 2\n",
    "b = 3\n",
    "\n",
    "if a < 5 and b < 4:\n",
    "    print \"a is less than 5 and b is less than 4\"\n",
    "    \n",
    "if a and b < 5:\n",
    "    print \"both a and b are less than 5\"\n",
    "    \n",
    "if a and b < 3:\n",
    "    print \"both a and b are less than 3\""
   ]
  },
  {
   "cell_type": "markdown",
   "metadata": {},
   "source": [
    "We could also use multiple `if` statements nested within each other to check for multiple conditions\n",
    "\n",
    "Make sure to preserve the indentation where needed to show which statements belong to which commands"
   ]
  },
  {
   "cell_type": "code",
   "execution_count": 95,
   "metadata": {
    "collapsed": false
   },
   "outputs": [
    {
     "name": "stdout",
     "output_type": "stream",
     "text": [
      "a is less than 5 and b is less than 4\n",
      "both a and b are less than 5\n"
     ]
    }
   ],
   "source": [
    "a = 2\n",
    "b = 3\n",
    "\n",
    "if a < 5:\n",
    "    if b < 4:\n",
    "        print \"a is less than 5 and b is less than 4\"\n",
    "        \n",
    "if a < 5:\n",
    "    if b < 5:\n",
    "        print \"both a and b are less than 5\""
   ]
  },
  {
   "cell_type": "markdown",
   "metadata": {},
   "source": [
    "#### If where ANY condition can be met: Or"
   ]
  },
  {
   "cell_type": "code",
   "execution_count": 96,
   "metadata": {
    "collapsed": false,
    "scrolled": false
   },
   "outputs": [
    {
     "name": "stdout",
     "output_type": "stream",
     "text": [
      "a is less than 5 or b is less than 4 or both\n",
      "a or b or both are less than 5\n",
      "either a or b or both are less than 3\n"
     ]
    }
   ],
   "source": [
    "a = 2\n",
    "b = 4\n",
    "\n",
    "if a < 5 or b < 4:\n",
    "    print \"a is less than 5 or b is less than 4 or both\"\n",
    "    \n",
    "if a or b < 5:\n",
    "    print \"a or b or both are less than 5\"\n",
    "    \n",
    "if a or b < 3:\n",
    "    print \"either a or b or both are less than 3\""
   ]
  },
  {
   "cell_type": "markdown",
   "metadata": {},
   "source": [
    "### Else Statements\n",
    "\n",
    "When you want the program to do some if the first condition is not satisfied, then you can follow the `if` command with an `else` command.\n",
    "\n",
    "The instructions that come after `else` are performed only if the first `if` statement does not hold"
   ]
  },
  {
   "cell_type": "code",
   "execution_count": 97,
   "metadata": {
    "collapsed": false
   },
   "outputs": [
    {
     "name": "stdout",
     "output_type": "stream",
     "text": [
      "the variable was not less than 1\n"
     ]
    }
   ],
   "source": [
    "a = 2.5\n",
    "if a < 1:\n",
    "    print \"the variable was less than 1\"\n",
    "else:\n",
    "    print \"the variable was not less than 1\""
   ]
  },
  {
   "cell_type": "markdown",
   "metadata": {},
   "source": [
    "### Elif Statements\n",
    "\n",
    "When you anticipate using multiple if statements that are only followed if the previous ones are false, use the `elif` statement after the first `if` statement"
   ]
  },
  {
   "cell_type": "code",
   "execution_count": 99,
   "metadata": {
    "collapsed": false
   },
   "outputs": [
    {
     "name": "stdout",
     "output_type": "stream",
     "text": [
      "the variable was less than 3, but greater than 2\n"
     ]
    }
   ],
   "source": [
    "a = 2.5\n",
    "if a < 1:\n",
    "    print \"the variable was less than 1\"\n",
    "elif a < 2:\n",
    "    print \"the variable was less than 2, but greater than 1\"\n",
    "elif a < 3:\n",
    "    print \"the variable was less than 3, but greater than 2\"\n",
    "else:\n",
    "    print \"the variable was greater than 3\"\n"
   ]
  },
  {
   "cell_type": "markdown",
   "metadata": {},
   "source": [
    "# Now you try\n",
    "\n",
    "Make a simple statement that guesses a person sex based on his/her height and weight.\n",
    "\n",
    "Create two variables, height and weight and set them equal to your height (in inches) and weight (in lbs).\n",
    "\n",
    "Make a chain of `if` `elif` and `else` commands that follow a pattern similar to this (Feel free to add/customize the rules to your own intuition): \n",
    "\n",
    "+ If the person's weight is over 200, print \"male\"\n",
    "+ If the person's weight is under 100, print \"female\"\n",
    "+ If the person's height is under 64, print \"female\"\n",
    "+ If the person's height is over 65 and their weight is over 160, print \"male\"\n",
    "+ etc"
   ]
  },
  {
   "cell_type": "code",
   "execution_count": null,
   "metadata": {
    "collapsed": true
   },
   "outputs": [],
   "source": [
    "\n",
    "\n",
    "\n",
    "\n",
    "\n",
    "\n"
   ]
  },
  {
   "cell_type": "markdown",
   "metadata": {},
   "source": [
    "---\n",
    "## Reading and Writing Files"
   ]
  },
  {
   "cell_type": "markdown",
   "metadata": {},
   "source": [
    "### Open a new file to write information to it"
   ]
  },
  {
   "cell_type": "code",
   "execution_count": 100,
   "metadata": {
    "collapsed": true
   },
   "outputs": [],
   "source": [
    "with open(\"filename.txt\",\"w\") as f:\n",
    "    f.write(\"Hi\")\n",
    "    f.write(\"\\r\\n\")\n",
    "    f.write(\"Bye\")\n",
    "    f.write(\"\\r\\n\")"
   ]
  },
  {
   "cell_type": "markdown",
   "metadata": {},
   "source": [
    "### Open a file to read its contents as a single string"
   ]
  },
  {
   "cell_type": "code",
   "execution_count": 101,
   "metadata": {
    "collapsed": false
   },
   "outputs": [
    {
     "name": "stdout",
     "output_type": "stream",
     "text": [
      "Hi\r\n",
      "Bye\r\n",
      "\n"
     ]
    }
   ],
   "source": [
    "with open(\"filename.txt\",\"r\") as f:\n",
    "    contents = f.read()\n",
    "    print contents"
   ]
  },
  {
   "cell_type": "markdown",
   "metadata": {},
   "source": [
    "### Open a file to read its contents as a list of lines"
   ]
  },
  {
   "cell_type": "code",
   "execution_count": 102,
   "metadata": {
    "collapsed": false
   },
   "outputs": [
    {
     "name": "stdout",
     "output_type": "stream",
     "text": [
      "['Hi', 'Bye']\n"
     ]
    }
   ],
   "source": [
    "with open(\"filename.txt\",\"r\") as f:\n",
    "    contents = f.read().splitlines()\n",
    "    print contents"
   ]
  },
  {
   "cell_type": "markdown",
   "metadata": {},
   "source": [
    "### Open an existing file to add information to it"
   ]
  },
  {
   "cell_type": "code",
   "execution_count": 103,
   "metadata": {
    "collapsed": false
   },
   "outputs": [],
   "source": [
    "with open(\"filename.txt\",\"a\") as f:\n",
    "    f.write(\"Hi again\")\n",
    "    f.write(\"\\r\\n\")"
   ]
  },
  {
   "cell_type": "markdown",
   "metadata": {},
   "source": [
    "Let's re-read the file to see the information we just added"
   ]
  },
  {
   "cell_type": "code",
   "execution_count": 104,
   "metadata": {
    "collapsed": false
   },
   "outputs": [
    {
     "name": "stdout",
     "output_type": "stream",
     "text": [
      "Hi\r\n",
      "Bye\r\n",
      "Hi again\r\n",
      "\n"
     ]
    }
   ],
   "source": [
    "with open(\"filename.txt\",\"r\") as f:\n",
    "    lines = f.read()\n",
    "    print lines"
   ]
  },
  {
   "cell_type": "markdown",
   "metadata": {},
   "source": [
    "# Now you try\n",
    "\n",
    "Make a list of four names and call that list: `namelist`\n",
    "\n",
    "Open a new text file called: \"names.txt\"\n",
    "\n",
    "For every name in the name list, write the name to a new line\n",
    "\n",
    "Open the file in and read its contents as a list.\n",
    "\n",
    "Print the list from the read file, and see if the list matches the one you originally made"
   ]
  },
  {
   "cell_type": "code",
   "execution_count": null,
   "metadata": {
    "collapsed": false
   },
   "outputs": [],
   "source": [
    "\n",
    "\n",
    "\n",
    "\n",
    "\n",
    "\n",
    "\n",
    "\n"
   ]
  },
  {
   "cell_type": "markdown",
   "metadata": {},
   "source": [
    "### Classes"
   ]
  },
  {
   "cell_type": "markdown",
   "metadata": {},
   "source": [
    "Classes are a fundamental part of object oriented programming.\n",
    "\n",
    "Imagine you anticipate frequently applying a set of functions to some variables. Rather than apply those functions separately, we can organize those functions into a common module called a \"class\"\n",
    "\n",
    "Classes are a way to take a grouping of functions and data and place them inside a container.\n",
    "\n",
    "The functions in a class typically have a common goal. \n",
    "\n",
    "Because a class is a distinct variable, you can create many of them without having them interfere with other variables.\n",
    "\n",
    "To use a class, you must:\n",
    "+ Start the line with the word \"class\", which indicates you are defining a class\n",
    "+ Specify the the name you want to give the class\n",
    "+ Indicate that the class is an object\n",
    "+ Specify what you want the module to do when you first call the class (the \"init\" step)\n",
    "+ Specify additional functions you want the class to do\n",
    "+ Make sure to include \"self\" as the first parameter when defining a function within a class\n",
    "\n",
    "Below we see an example of a class that prepares documents to be text analyzed.\n",
    "\n",
    "The class is called `documentcleaner` and it is initialized with a starting document\n",
    "\n",
    "There are many functions that the class can perform on the document, which help prepare it for analysis\n",
    "+ Lowercase all of the text\n",
    "+ Remove newline characters\n",
    "+ Remove punctuation\n",
    "+ Remove non-essential words (stopwords) from the text\n",
    "\n",
    "At the bottom, we call the `documentcleaner` class with a starting piece of text. The different functions are them called. Finally, we can view the document within the class that has been cleaned."
   ]
  },
  {
   "cell_type": "code",
   "execution_count": 105,
   "metadata": {
    "collapsed": false
   },
   "outputs": [
    {
     "name": "stdout",
     "output_type": "stream",
     "text": [
      "documentcleaner class is initialized\n",
      "we choose go moon this decade do other things not because they easy because they hard because that goal will serve organize measure best our energies skills because that challenge one that we willing accept one we unwilling postpone one which we intend win others too\n"
     ]
    }
   ],
   "source": [
    "class documentcleaner(object):\n",
    "\n",
    "    def __init__(self,document):\n",
    "        self.document = document #set the class's document variable to the document we used to initialized the class\n",
    "        print \"documentcleaner class is initialized\" #display this statement when the class is initialized\n",
    "   \n",
    "    def lowercase(self):\n",
    "        self.document = self.document.lower()\n",
    " \n",
    "    def remove_newline(self):\n",
    "        self.document = self.document.replace(\"\\r\",\"\")\n",
    "        self.document = self.document.replace(\"\\n\",\"\")\n",
    "        \n",
    "    def remove_punctuation(self):\n",
    "        self.document = self.document.replace(\".\",\"\")\n",
    "        self.document = self.document.replace(\",\",\"\")\n",
    "        self.document = self.document.replace(\"!\",\"\")\n",
    "        self.document = self.document.replace(\"?\",\"\")\n",
    "        \n",
    "    def remove_stopwords(self):\n",
    "        cleaned = []\n",
    "        stopwords = [\"a\", \"an\", \"and\", \"at\", \"are\", \"be\", \"but\", \"by\", \"for\", \"how\", \"is\",\"in\",\"of\", \"on\", \"to\", \"the\", \"with\"]\n",
    "        words = self.document.split(\" \")\n",
    "        for word in words:\n",
    "            if word not in stopwords:\n",
    "                cleaned.append(word)\n",
    "        self.document = \" \".join(cleaned)\n",
    "       \n",
    "    \n",
    "\n",
    "text = \"\"\"We choose to go to the moon in this decade and do the other things, \n",
    "not because they are easy, but because they are hard, because that goal will serve \n",
    "to organize and measure the best of our energies and skills, because that challenge \n",
    "is one that we are willing to accept, one we are unwilling to postpone, and one which \n",
    "we intend to win, and the others, too.\"\"\"\n",
    "\n",
    "dc = documentcleaner(text)\n",
    "\n",
    "dc.remove_newline()\n",
    "dc.lowercase()\n",
    "dc.remove_punctuation()\n",
    "dc.remove_stopwords()\n",
    "\n",
    "print dc.document"
   ]
  },
  {
   "cell_type": "markdown",
   "metadata": {},
   "source": [
    "# Now you try\n",
    "\n",
    "A Magic 8-Ball is a toy where a person would ask it a question, shake it, and the 8-Ball would deliver messages that were a form of:\n",
    "+ Yes\n",
    "+ No\n",
    "+ Undecided\n",
    "\n",
    "For this activity, create a class called `magiceightball`\n",
    "\n",
    "When the magiceightball class is called, it should say \"Ask me a yes or no question\"\n",
    "\n",
    "The class should have a function called `shake`:\n",
    "\n",
    "When the `shake` function is called, the class should randomly deliver ONE of the possible messages:\n",
    " + \"Most likely\"\n",
    " + \"Outlook good\"\n",
    " + \"All signs point to yes\"\n",
    " + \"Don't count on it\"\n",
    " + \"My sources say no\"\n",
    " + \"Very doubtful\"\n",
    " + \"Ask again later\"\n",
    " + \"Cannot predict now\"\n",
    " + \"Concentrate and ask again\"\n",
    " \n",
    "Hint: To choose one item randomly from a list of items: import the library called `random` and use the `random.choice()` function\n"
   ]
  },
  {
   "cell_type": "code",
   "execution_count": null,
   "metadata": {
    "collapsed": false
   },
   "outputs": [],
   "source": [
    "\n",
    "\n",
    "\n",
    "\n",
    "\n",
    "\n",
    "\n",
    "\n",
    "\n",
    "\n",
    "\n"
   ]
  },
  {
   "cell_type": "markdown",
   "metadata": {},
   "source": [
    "## Combining the Concepts"
   ]
  },
  {
   "cell_type": "markdown",
   "metadata": {},
   "source": [
    "## Make A Trivia Game"
   ]
  },
  {
   "cell_type": "markdown",
   "metadata": {},
   "source": [
    "Make a trivia game where the computer displays a question.\n",
    "\n",
    "The user must provide an answer.\n",
    "\n",
    "Depending on the answer provided, the user will either see a message saying that \"You are correct\" or \"That answer is incorrect\"\n",
    "\n",
    "You can get a use's input using the command: answer = raw_input()\n",
    "\n",
    "When you have coded your game, try to make responses be acceptable regardless of if they are uppercase or lowercase"
   ]
  },
  {
   "cell_type": "code",
   "execution_count": null,
   "metadata": {
    "collapsed": false
   },
   "outputs": [],
   "source": [
    "\n",
    "\n",
    "\n",
    "\n",
    "\n"
   ]
  },
  {
   "cell_type": "markdown",
   "metadata": {
    "collapsed": true
   },
   "source": [
    "# Compute the Average of a Given set of Numbers\n",
    "\n",
    "Make a function that computes the average of a list of numbers.\n",
    "\n",
    "The function should take a single list as an input\n",
    "\n",
    "The average is computed by adding up all of the numbers and dividing that sum by the total number of items.\n",
    "\n",
    "Hints: \n",
    "+ Remember to take into acount the number's type because certain types do not handle division well.\n",
    "+ You may need to create a placeholder variable to start the sum at 0"
   ]
  },
  {
   "cell_type": "code",
   "execution_count": null,
   "metadata": {
    "collapsed": false
   },
   "outputs": [],
   "source": [
    "\n",
    "\n",
    "\n",
    "\n",
    "\n",
    "\n",
    "\n",
    "\n",
    "\n",
    "\n"
   ]
  },
  {
   "cell_type": "markdown",
   "metadata": {},
   "source": [
    "### Count The Number of Instances of Words in a Sentence\n",
    "\n",
    "Imagine you were given a collection of text\n",
    "\n",
    "You want to see how often certain words are mentioned.\n",
    "\n",
    "Write code the takes a sentence and creates a dictionary containing the total number of times each word occurs\n",
    "\n",
    "Hint: You'll need to solve many different problems including:\n",
    "+ How to take a sentence and turn it into a list of words\n",
    "+ How to make a dictionary to hold the words and their counts\n",
    "+ How to take a list of words and for each word in that list\n",
    " + if it not already in the dictionary as a key, add it to a dictionary and give it a starting value\n",
    " + if the word is already in the dictionary, increase its count by 1"
   ]
  },
  {
   "cell_type": "code",
   "execution_count": null,
   "metadata": {
    "collapsed": false
   },
   "outputs": [],
   "source": [
    "\n",
    "\n",
    "\n",
    "\n",
    "\n",
    "\n"
   ]
  },
  {
   "cell_type": "markdown",
   "metadata": {},
   "source": [
    "## Further Ideas"
   ]
  },
  {
   "cell_type": "markdown",
   "metadata": {},
   "source": [
    "### Rename all of the files"
   ]
  },
  {
   "cell_type": "code",
   "execution_count": null,
   "metadata": {
    "collapsed": true
   },
   "outputs": [],
   "source": [
    "import glob #Import the glob library\n",
    "import os #Import the os library\n",
    "\n",
    "os.chdir(\"Documents\") #Go to the \"Documents\" directory\n",
    "textfiles = glob.glob(\"*.txt\") #Find all of the files that end in .txt\n",
    "\n",
    "for filename in textfiles: #For every filename in those text files\n",
    "    newfilename = \"old_\" + filename #Make a new filename that adds old to the beginnig of the original filename\n",
    "    os.rename(filename,newfilename) #Rename the old file with the new filename"
   ]
  },
  {
   "cell_type": "markdown",
   "metadata": {},
   "source": [
    "### Convert a batch of files from jpg to png"
   ]
  },
  {
   "cell_type": "code",
   "execution_count": null,
   "metadata": {
    "collapsed": false
   },
   "outputs": [],
   "source": [
    "import glob #Import the glob library\n",
    "from PIL import Image #Import the Image library\n",
    "\n",
    "jpegfiles = glob.glob(\"*.jpg\") #Get all of the files ending in .jpg in the current directory\n",
    "for filename in jpegfiles: #For every filename that was found\n",
    "    img=Image.open(filename) #Open the file with the Image library\n",
    "    \n",
    "    newfilename = filename.replace(\"jpg\",\"png\") #Make a new filename that replaces the .jpg with .png\n",
    "    img.save(newfilename, \"PNG\") #Save the opened image with the new filename as a png"
   ]
  },
  {
   "cell_type": "markdown",
   "metadata": {},
   "source": [
    "### Analyze Data"
   ]
  },
  {
   "cell_type": "code",
   "execution_count": 106,
   "metadata": {
    "collapsed": false,
    "scrolled": true
   },
   "outputs": [
    {
     "name": "stdout",
     "output_type": "stream",
     "text": [
      "Descriptive Statistics\n",
      "       Variable1  Variable2\n",
      "count   5.000000   5.000000\n",
      "mean    3.000000   3.600000\n",
      "std     1.581139   2.408319\n",
      "min     1.000000   1.000000\n",
      "25%     2.000000   2.000000\n",
      "50%     3.000000   3.000000\n",
      "75%     4.000000   5.000000\n",
      "max     5.000000   7.000000\n",
      "\r\n",
      "\n",
      "Correlation Table\n",
      "           Variable1  Variable2\n",
      "Variable1   1.000000   0.525226\n",
      "Variable2   0.525226   1.000000\n"
     ]
    }
   ],
   "source": [
    "import pandas #Import the pandas library\n",
    "\n",
    "x=[1,2,3,4,5] #Make a variable called x to hold some data\n",
    "y=[2,1,5,7,3]  #Make a variable called y to hold some data\n",
    "dataframe = pandas.DataFrame({'Variable1' : x, 'Variable2' :y}) #Convert x and y into a dataframe\n",
    "\n",
    "print \"Descriptive Statistics\"\n",
    "print dataframe.describe() #Compute descriptive statistics\n",
    "\n",
    "print \"\\r\\n\" #Make a new line\n",
    "\n",
    "print \"Correlation Table\"\n",
    "print dataframe.corr() #Compute the correlation between the variables"
   ]
  },
  {
   "cell_type": "markdown",
   "metadata": {},
   "source": [
    "### Visualize Data"
   ]
  },
  {
   "cell_type": "code",
   "execution_count": 110,
   "metadata": {
    "collapsed": false,
    "scrolled": true
   },
   "outputs": [
    {
     "data": {
      "text/plain": [
       "<matplotlib.axes._subplots.AxesSubplot at 0x9995898>"
      ]
     },
     "execution_count": 110,
     "metadata": {},
     "output_type": "execute_result"
    },
    {
     "data": {
      "image/png": "[encoded data removed]",
      "text/plain": [
       "<matplotlib.figure.Figure at 0x9b27160>"
      ]
     },
     "metadata": {},
     "output_type": "display_data"
    }
   ],
   "source": [
    "%matplotlib inline \n",
    "#The above line is needed to make images display in Jupyter\n",
    "\n",
    "import seaborn #Import the seaborn library for visualization\n",
    "\n",
    "#Create a dataset\n",
    "data = [1,2,2,3,3,3,4,4,4,4,4,4,4,4,4,5,5,6,6,7,7,8,8,8,8,8,8,8,8,8,8,9,9,10]\n",
    "\n",
    "# Plot a simple histogram showing the density (y-axis) of the different numbers (x-axis)\n",
    "seaborn.distplot(data, hist=False, kde=True, color=\"b\", kde_kws={\"shade\": True})\n"
   ]
  },
  {
   "cell_type": "markdown",
   "metadata": {},
   "source": [
    "### Pattern Matching"
   ]
  },
  {
   "cell_type": "markdown",
   "metadata": {},
   "source": [
    "#### Match word stems"
   ]
  },
  {
   "cell_type": "code",
   "execution_count": 111,
   "metadata": {
    "collapsed": false
   },
   "outputs": [
    {
     "data": {
      "text/plain": [
       "['Strawberries', 'Blackberries', 'Raspberries']"
      ]
     },
     "execution_count": 111,
     "metadata": {},
     "output_type": "execute_result"
    }
   ],
   "source": [
    "import re #import the regular expression library\n",
    "fruits = \"Strawberries, Bananas, Blackberries, Dates, Raspberries\"\n",
    "re.findall(\"\\w+berries\", fruits)\n"
   ]
  },
  {
   "cell_type": "markdown",
   "metadata": {},
   "source": [
    "#### Remove digits from string"
   ]
  },
  {
   "cell_type": "code",
   "execution_count": 112,
   "metadata": {
    "collapsed": false
   },
   "outputs": [
    {
     "data": {
      "text/plain": [
       "'Strawberries, Bananas, Blackberries, Dates, Raspberries'"
      ]
     },
     "execution_count": 112,
     "metadata": {},
     "output_type": "execute_result"
    }
   ],
   "source": [
    "import re #import the regular expression library\n",
    "fruits = \"Straw343berries, Ban34anas, Blackber678ries, Da678tes, Raspberri234es\"\n",
    "re.sub(\"\\d+\", \"\", fruits)"
   ]
  },
  {
   "cell_type": "markdown",
   "metadata": {},
   "source": [
    "### Scrape Data from the Web"
   ]
  },
  {
   "cell_type": "code",
   "execution_count": 116,
   "metadata": {
    "collapsed": false
   },
   "outputs": [
    {
     "name": "stdout",
     "output_type": "stream",
     "text": [
      "\n",
      "150.98\n",
      "\n"
     ]
    }
   ],
   "source": [
    "import urllib #Load the urllib library\n",
    "from bs4 import BeautifulSoup #Load the BeautifulSoup library\n",
    "\n",
    "\n",
    "url = \"https://www.google.com/finance?q=IBM\" #The Link to IBM's page on Google Finance\n",
    "\n",
    "response = urllib.urlopen(url) #Download the webpage\n",
    "webcontent = response.read() #Read the source code\n",
    "\n",
    "soup = BeautifulSoup(webcontent, 'html.parser') #Parse the html with BeautifulSoup\n",
    "\n",
    "stockprice = soup.find(\"span\", {\"class\": \"pr\"}) #Get the content in a span tag with a class = \"pr\"\n",
    "\n",
    "print stockprice.text #Display the text of that"
   ]
  },
  {
   "cell_type": "markdown",
   "metadata": {},
   "source": [
    "### Send e-mails\n",
    "\n",
    "To use with Gmail, you must go to the following link and select \"On\":\n",
    "[https://myaccount.google.com/lesssecureapps?pli=1](https://myaccount.google.com/lesssecureapps?pli=1)"
   ]
  },
  {
   "cell_type": "code",
   "execution_count": null,
   "metadata": {
    "collapsed": false
   },
   "outputs": [],
   "source": [
    "import smtplib\n",
    "\n",
    "fromaddress='youremailaddress@gmail.com'\n",
    "toaddress='receipientsemailaddress@gmail.com'\n",
    "\n",
    "msg = \"Hello\"\n",
    "username='youremailaddress@gmail.com'\n",
    "passwd='YourPassword'\n",
    "\n",
    "server = smtplib.SMTP('smtp.gmail.com:587')\n",
    "server.ehlo()\n",
    "server.starttls()\n",
    "server.login(username,passwd)\n",
    "server.sendmail(fromaddress,toaddress,msg)\n",
    "print(\"Mail Sent Successfully\")\n",
    "server.quit()"
   ]
  }
 ],
 "metadata": {
  "kernelspec": {
   "display_name": "Python 2",
   "language": "python",
   "name": "python2"
  },
  "language_info": {
   "codemirror_mode": {
    "name": "ipython",
    "version": 2
   },
   "file_extension": ".py",
   "mimetype": "text/x-python",
   "name": "python",
   "nbconvert_exporter": "python",
   "pygments_lexer": "ipython2",
   "version": "2.7.12"
  }
 },
 "nbformat": 4,
 "nbformat_minor": 0
}
